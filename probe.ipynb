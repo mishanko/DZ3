{
 "cells": [
  {
   "cell_type": "code",
   "execution_count": 2,
   "metadata": {},
   "outputs": [],
   "source": [
    "import logging\n",
    "logging.basicConfig(\n",
    "    format='%(asctime)s - %(name)s - %(levelname)s - %(message)s',\n",
    "    level=logging.INFO,\n",
    "    filename=\"logs/app.log\",\n",
    "    filemode=\"a\",\n",
    "    datefmt='%d-%b-%y %H:%M:%S'\n",
    ")\n",
    "logging.info('Admin logged in')"
   ]
  },
  {
   "cell_type": "code",
   "execution_count": null,
   "metadata": {},
   "outputs": [],
   "source": []
  }
 ],
 "metadata": {
  "interpreter": {
   "hash": "28814a253ae965d2545ddc4d18551ead8e9d8a26615998fa3018e368d5c5e91a"
  },
  "kernelspec": {
   "display_name": "Python 3.9.7 64-bit ('adv_python': conda)",
   "language": "python",
   "name": "python3"
  },
  "language_info": {
   "codemirror_mode": {
    "name": "ipython",
    "version": 3
   },
   "file_extension": ".py",
   "mimetype": "text/x-python",
   "name": "python",
   "nbconvert_exporter": "python",
   "pygments_lexer": "ipython3",
   "version": "3.9.7"
  },
  "orig_nbformat": 4
 },
 "nbformat": 4,
 "nbformat_minor": 2
}
