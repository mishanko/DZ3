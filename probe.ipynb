{
 "cells": [
  {
   "cell_type": "code",
   "execution_count": 2,
   "metadata": {},
   "outputs": [],
   "source": [
    "import logging\n",
    "logging.basicConfig(\n",
    "    format='%(asctime)s - %(name)s - %(levelname)s - %(message)s',\n",
    "    level=logging.INFO,\n",
    "    filename=\"logs/app.log\",\n",
    "    filemode=\"a\",\n",
    "    datefmt='%d-%b-%y %H:%M:%S'\n",
    ")\n",
    "logging.info('Admin logged in')"
   ]
  },
  {
   "cell_type": "code",
   "execution_count": 19,
   "metadata": {},
   "outputs": [],
   "source": [
    "import pandas as pd\n",
    "\n",
    "from sklearn.linear_model import LogisticRegression\n",
    "from sklearn.model_selection import train_test_split\n",
    "\n",
    "import mlflow.sklearn\n",
    "from mlflow.models.signature import infer_signature"
   ]
  },
  {
   "cell_type": "code",
   "execution_count": 2,
   "metadata": {},
   "outputs": [
    {
     "name": "stderr",
     "output_type": "stream",
     "text": [
      "2021/12/16 21:51:56 INFO mlflow.tracking.fluent: Experiment with name 'logreg_classifier' does not exist. Creating a new experiment.\n"
     ]
    },
    {
     "data": {
      "text/plain": [
       "<Experiment: artifact_location='./mlartifacts/1', experiment_id='1', lifecycle_stage='active', name='logreg_classifier', tags={}>"
      ]
     },
     "execution_count": 2,
     "metadata": {},
     "output_type": "execute_result"
    }
   ],
   "source": [
    "mlflow.set_tracking_uri(\"http://localhost:5000/\")\n",
    "mlflow.set_experiment(\"logreg_classifier\")"
   ]
  },
  {
   "cell_type": "code",
   "execution_count": 25,
   "metadata": {},
   "outputs": [
    {
     "name": "stderr",
     "output_type": "stream",
     "text": [
      "Registered model 'model_logreg_test' already exists. Creating a new version of this model...\n",
      "2021/12/16 22:16:09 INFO mlflow.tracking._model_registry.client: Waiting up to 300 seconds for model version to finish creation.                     Model name: model_logreg_test, version 2\n",
      "Created version '2' of model 'model_logreg_test'.\n"
     ]
    }
   ],
   "source": [
    "import numpy as np\n",
    "from sklearn.metrics import mean_squared_error\n",
    "with mlflow.start_run(run_name='simple_logreg'):\n",
    "    # data = pd.DataFrame({'X': [[1,2,3], [3,2,1], [1,2,3]], 'y':[0,1,0]})\n",
    "    Xtrain, Xtest, ytrain, ytest = train_test_split(np.array([[1,2,3], [3,2,1], [1,2,3]]), np.array([0,1,0]), test_size=0.33)\n",
    "\n",
    "    model = LogisticRegression(solver='liblinear')\n",
    "    model.fit(Xtrain, ytrain)\n",
    "\n",
    "    mlflow.log_params(model.get_params())\n",
    "    mlflow.log_metrics({\"train_auc\":model.score(Xtrain, ytrain), \n",
    "                        \"test_auc\": model.score(Xtest, ytest)})\n",
    "\n",
    "    signature = infer_signature(Xtest, model.predict(Xtest))\n",
    "    mlflow.sklearn.log_model(model, 'skl_model', signature=signature, registered_model_name='model_logreg_test')"
   ]
  },
  {
   "cell_type": "code",
   "execution_count": null,
   "metadata": {},
   "outputs": [],
   "source": []
  }
 ],
 "metadata": {
  "interpreter": {
   "hash": "28814a253ae965d2545ddc4d18551ead8e9d8a26615998fa3018e368d5c5e91a"
  },
  "kernelspec": {
   "display_name": "Python 3.9.7 64-bit ('adv_python': conda)",
   "language": "python",
   "name": "python3"
  },
  "language_info": {
   "codemirror_mode": {
    "name": "ipython",
    "version": 3
   },
   "file_extension": ".py",
   "mimetype": "text/x-python",
   "name": "python",
   "nbconvert_exporter": "python",
   "pygments_lexer": "ipython3",
   "version": "3.9.7"
  },
  "orig_nbformat": 4
 },
 "nbformat": 4,
 "nbformat_minor": 2
}
